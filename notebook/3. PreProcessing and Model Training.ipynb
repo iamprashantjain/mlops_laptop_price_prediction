{
 "cells": [
  {
   "cell_type": "code",
   "execution_count": 1,
   "id": "329e2fac",
   "metadata": {},
   "outputs": [],
   "source": [
    "import pandas as pd"
   ]
  },
  {
   "cell_type": "code",
   "execution_count": 2,
   "id": "d1799c50",
   "metadata": {},
   "outputs": [],
   "source": [
    "df = pd.read_excel(\"smartprix_laptop_cleaned_v7.xlsx\")"
   ]
  },
  {
   "cell_type": "code",
   "execution_count": 3,
   "id": "c6b1232e",
   "metadata": {},
   "outputs": [
    {
     "data": {
      "text/html": [
       "<div>\n",
       "<style scoped>\n",
       "    .dataframe tbody tr th:only-of-type {\n",
       "        vertical-align: middle;\n",
       "    }\n",
       "\n",
       "    .dataframe tbody tr th {\n",
       "        vertical-align: top;\n",
       "    }\n",
       "\n",
       "    .dataframe thead th {\n",
       "        text-align: right;\n",
       "    }\n",
       "</style>\n",
       "<table border=\"1\" class=\"dataframe\">\n",
       "  <thead>\n",
       "    <tr style=\"text-align: right;\">\n",
       "      <th></th>\n",
       "      <th>price</th>\n",
       "      <th>rating</th>\n",
       "      <th>specScore</th>\n",
       "      <th>brand</th>\n",
       "      <th>threads</th>\n",
       "      <th>screen_size</th>\n",
       "      <th>os</th>\n",
       "      <th>warranty</th>\n",
       "      <th>core_count</th>\n",
       "      <th>processor_brand</th>\n",
       "      <th>ram_capacity</th>\n",
       "      <th>ram_type</th>\n",
       "      <th>memory_capacity</th>\n",
       "      <th>memory_type</th>\n",
       "      <th>graphics_card_brand</th>\n",
       "      <th>PPI</th>\n",
       "    </tr>\n",
       "  </thead>\n",
       "  <tbody>\n",
       "    <tr>\n",
       "      <th>628</th>\n",
       "      <td>143990</td>\n",
       "      <td>4.30</td>\n",
       "      <td>78</td>\n",
       "      <td>MSI</td>\n",
       "      <td>16</td>\n",
       "      <td>15.6</td>\n",
       "      <td>Windows 11</td>\n",
       "      <td>24</td>\n",
       "      <td>8</td>\n",
       "      <td>AMD</td>\n",
       "      <td>16</td>\n",
       "      <td>DDR5</td>\n",
       "      <td>1024</td>\n",
       "      <td>SSD</td>\n",
       "      <td>NVIDIA</td>\n",
       "      <td>141.211998</td>\n",
       "    </tr>\n",
       "    <tr>\n",
       "      <th>177</th>\n",
       "      <td>55990</td>\n",
       "      <td>4.45</td>\n",
       "      <td>54</td>\n",
       "      <td>Lenovo</td>\n",
       "      <td>12</td>\n",
       "      <td>16.0</td>\n",
       "      <td>Windows 11</td>\n",
       "      <td>12</td>\n",
       "      <td>10</td>\n",
       "      <td>Intel</td>\n",
       "      <td>16</td>\n",
       "      <td>DDR5</td>\n",
       "      <td>512</td>\n",
       "      <td>SSD</td>\n",
       "      <td>Others</td>\n",
       "      <td>137.681698</td>\n",
       "    </tr>\n",
       "    <tr>\n",
       "      <th>75</th>\n",
       "      <td>71990</td>\n",
       "      <td>4.00</td>\n",
       "      <td>61</td>\n",
       "      <td>Acer</td>\n",
       "      <td>20</td>\n",
       "      <td>14.0</td>\n",
       "      <td>Windows 11</td>\n",
       "      <td>12</td>\n",
       "      <td>14</td>\n",
       "      <td>Intel</td>\n",
       "      <td>16</td>\n",
       "      <td>LPDDR5</td>\n",
       "      <td>1024</td>\n",
       "      <td>SSD</td>\n",
       "      <td>Intel</td>\n",
       "      <td>242.588086</td>\n",
       "    </tr>\n",
       "    <tr>\n",
       "      <th>283</th>\n",
       "      <td>54990</td>\n",
       "      <td>4.60</td>\n",
       "      <td>64</td>\n",
       "      <td>MSI</td>\n",
       "      <td>12</td>\n",
       "      <td>15.6</td>\n",
       "      <td>Windows 11</td>\n",
       "      <td>24</td>\n",
       "      <td>8</td>\n",
       "      <td>Intel</td>\n",
       "      <td>16</td>\n",
       "      <td>DDR5</td>\n",
       "      <td>512</td>\n",
       "      <td>SSD</td>\n",
       "      <td>Others</td>\n",
       "      <td>141.211998</td>\n",
       "    </tr>\n",
       "    <tr>\n",
       "      <th>150</th>\n",
       "      <td>75990</td>\n",
       "      <td>4.00</td>\n",
       "      <td>66</td>\n",
       "      <td>Lenovo</td>\n",
       "      <td>16</td>\n",
       "      <td>15.6</td>\n",
       "      <td>Windows 11</td>\n",
       "      <td>12</td>\n",
       "      <td>10</td>\n",
       "      <td>Intel</td>\n",
       "      <td>16</td>\n",
       "      <td>DDR5</td>\n",
       "      <td>512</td>\n",
       "      <td>SSD</td>\n",
       "      <td>NVIDIA</td>\n",
       "      <td>141.211998</td>\n",
       "    </tr>\n",
       "  </tbody>\n",
       "</table>\n",
       "</div>"
      ],
      "text/plain": [
       "      price  rating  specScore   brand  threads  screen_size          os  \\\n",
       "628  143990    4.30         78     MSI       16         15.6  Windows 11   \n",
       "177   55990    4.45         54  Lenovo       12         16.0  Windows 11   \n",
       "75    71990    4.00         61    Acer       20         14.0  Windows 11   \n",
       "283   54990    4.60         64     MSI       12         15.6  Windows 11   \n",
       "150   75990    4.00         66  Lenovo       16         15.6  Windows 11   \n",
       "\n",
       "     warranty  core_count processor_brand  ram_capacity ram_type  \\\n",
       "628        24           8             AMD            16     DDR5   \n",
       "177        12          10           Intel            16     DDR5   \n",
       "75         12          14           Intel            16   LPDDR5   \n",
       "283        24           8           Intel            16     DDR5   \n",
       "150        12          10           Intel            16     DDR5   \n",
       "\n",
       "     memory_capacity memory_type graphics_card_brand         PPI  \n",
       "628             1024         SSD              NVIDIA  141.211998  \n",
       "177              512         SSD              Others  137.681698  \n",
       "75              1024         SSD               Intel  242.588086  \n",
       "283              512         SSD              Others  141.211998  \n",
       "150              512         SSD              NVIDIA  141.211998  "
      ]
     },
     "execution_count": 3,
     "metadata": {},
     "output_type": "execute_result"
    }
   ],
   "source": [
    "df.sample(5)"
   ]
  },
  {
   "cell_type": "code",
   "execution_count": 4,
   "id": "c7373089",
   "metadata": {},
   "outputs": [
    {
     "data": {
      "text/plain": [
       "(824, 16)"
      ]
     },
     "execution_count": 4,
     "metadata": {},
     "output_type": "execute_result"
    }
   ],
   "source": [
    "df.shape"
   ]
  },
  {
   "cell_type": "code",
   "execution_count": 5,
   "id": "bbbb4d43",
   "metadata": {},
   "outputs": [
    {
     "name": "stdout",
     "output_type": "stream",
     "text": [
      "<class 'pandas.core.frame.DataFrame'>\n",
      "RangeIndex: 824 entries, 0 to 823\n",
      "Data columns (total 16 columns):\n",
      " #   Column               Non-Null Count  Dtype  \n",
      "---  ------               --------------  -----  \n",
      " 0   price                824 non-null    int64  \n",
      " 1   rating               824 non-null    float64\n",
      " 2   specScore            824 non-null    int64  \n",
      " 3   brand                824 non-null    object \n",
      " 4   threads              824 non-null    int64  \n",
      " 5   screen_size          824 non-null    float64\n",
      " 6   os                   824 non-null    object \n",
      " 7   warranty             824 non-null    int64  \n",
      " 8   core_count           824 non-null    int64  \n",
      " 9   processor_brand      824 non-null    object \n",
      " 10  ram_capacity         824 non-null    int64  \n",
      " 11  ram_type             801 non-null    object \n",
      " 12  memory_capacity      824 non-null    int64  \n",
      " 13  memory_type          824 non-null    object \n",
      " 14  graphics_card_brand  824 non-null    object \n",
      " 15  PPI                  824 non-null    float64\n",
      "dtypes: float64(3), int64(7), object(6)\n",
      "memory usage: 103.1+ KB\n"
     ]
    }
   ],
   "source": [
    "df.info()"
   ]
  },
  {
   "cell_type": "code",
   "execution_count": 6,
   "id": "c7012cd3",
   "metadata": {},
   "outputs": [
    {
     "data": {
      "text/plain": [
       "price                   0\n",
       "rating                  0\n",
       "specScore               0\n",
       "brand                   0\n",
       "threads                 0\n",
       "screen_size             0\n",
       "os                      0\n",
       "warranty                0\n",
       "core_count              0\n",
       "processor_brand         0\n",
       "ram_capacity            0\n",
       "ram_type               23\n",
       "memory_capacity         0\n",
       "memory_type             0\n",
       "graphics_card_brand     0\n",
       "PPI                     0\n",
       "dtype: int64"
      ]
     },
     "execution_count": 6,
     "metadata": {},
     "output_type": "execute_result"
    }
   ],
   "source": [
    "df.isnull().sum()"
   ]
  },
  {
   "cell_type": "code",
   "execution_count": 7,
   "id": "c15bcb50",
   "metadata": {},
   "outputs": [],
   "source": [
    "df['ram_type'].fillna('N/A', inplace=True)"
   ]
  },
  {
   "cell_type": "code",
   "execution_count": 8,
   "id": "20178f8d",
   "metadata": {},
   "outputs": [
    {
     "data": {
      "text/plain": [
       "price                  0\n",
       "rating                 0\n",
       "specScore              0\n",
       "brand                  0\n",
       "threads                0\n",
       "screen_size            0\n",
       "os                     0\n",
       "warranty               0\n",
       "core_count             0\n",
       "processor_brand        0\n",
       "ram_capacity           0\n",
       "ram_type               0\n",
       "memory_capacity        0\n",
       "memory_type            0\n",
       "graphics_card_brand    0\n",
       "PPI                    0\n",
       "dtype: int64"
      ]
     },
     "execution_count": 8,
     "metadata": {},
     "output_type": "execute_result"
    }
   ],
   "source": [
    "df.isnull().sum()"
   ]
  },
  {
   "cell_type": "code",
   "execution_count": 9,
   "id": "79bd5ecf",
   "metadata": {},
   "outputs": [],
   "source": [
    "df.to_excel(\"smartprix_laptop_cleaned_v8.xlsx\", index=False)"
   ]
  },
  {
   "cell_type": "markdown",
   "id": "bf2a7da0",
   "metadata": {},
   "source": [
    "## Prepare X & y variables"
   ]
  },
  {
   "cell_type": "code",
   "execution_count": 10,
   "id": "56c74e78",
   "metadata": {},
   "outputs": [],
   "source": [
    "X = df.drop(columns=['price'])\n",
    "y = df['price']"
   ]
  },
  {
   "cell_type": "code",
   "execution_count": 11,
   "id": "6382b4f9",
   "metadata": {},
   "outputs": [
    {
     "data": {
      "text/html": [
       "<div>\n",
       "<style scoped>\n",
       "    .dataframe tbody tr th:only-of-type {\n",
       "        vertical-align: middle;\n",
       "    }\n",
       "\n",
       "    .dataframe tbody tr th {\n",
       "        vertical-align: top;\n",
       "    }\n",
       "\n",
       "    .dataframe thead th {\n",
       "        text-align: right;\n",
       "    }\n",
       "</style>\n",
       "<table border=\"1\" class=\"dataframe\">\n",
       "  <thead>\n",
       "    <tr style=\"text-align: right;\">\n",
       "      <th></th>\n",
       "      <th>rating</th>\n",
       "      <th>specScore</th>\n",
       "      <th>brand</th>\n",
       "      <th>threads</th>\n",
       "      <th>screen_size</th>\n",
       "      <th>os</th>\n",
       "      <th>warranty</th>\n",
       "      <th>core_count</th>\n",
       "      <th>processor_brand</th>\n",
       "      <th>ram_capacity</th>\n",
       "      <th>ram_type</th>\n",
       "      <th>memory_capacity</th>\n",
       "      <th>memory_type</th>\n",
       "      <th>graphics_card_brand</th>\n",
       "      <th>PPI</th>\n",
       "    </tr>\n",
       "  </thead>\n",
       "  <tbody>\n",
       "    <tr>\n",
       "      <th>127</th>\n",
       "      <td>4.40</td>\n",
       "      <td>66</td>\n",
       "      <td>Dell</td>\n",
       "      <td>16</td>\n",
       "      <td>15.6</td>\n",
       "      <td>Windows 11</td>\n",
       "      <td>12</td>\n",
       "      <td>10</td>\n",
       "      <td>Intel</td>\n",
       "      <td>16</td>\n",
       "      <td>DDR5</td>\n",
       "      <td>512</td>\n",
       "      <td>SSD</td>\n",
       "      <td>NVIDIA</td>\n",
       "      <td>141.211998</td>\n",
       "    </tr>\n",
       "    <tr>\n",
       "      <th>226</th>\n",
       "      <td>4.10</td>\n",
       "      <td>68</td>\n",
       "      <td>Acer</td>\n",
       "      <td>16</td>\n",
       "      <td>15.6</td>\n",
       "      <td>Windows 11</td>\n",
       "      <td>12</td>\n",
       "      <td>10</td>\n",
       "      <td>Intel</td>\n",
       "      <td>16</td>\n",
       "      <td>DDR5</td>\n",
       "      <td>512</td>\n",
       "      <td>SSD</td>\n",
       "      <td>NVIDIA</td>\n",
       "      <td>141.211998</td>\n",
       "    </tr>\n",
       "    <tr>\n",
       "      <th>198</th>\n",
       "      <td>4.35</td>\n",
       "      <td>83</td>\n",
       "      <td>HP</td>\n",
       "      <td>16</td>\n",
       "      <td>16.0</td>\n",
       "      <td>Windows 11</td>\n",
       "      <td>12</td>\n",
       "      <td>8</td>\n",
       "      <td>AMD</td>\n",
       "      <td>32</td>\n",
       "      <td>DDR5</td>\n",
       "      <td>1024</td>\n",
       "      <td>SSD</td>\n",
       "      <td>NVIDIA</td>\n",
       "      <td>183.575598</td>\n",
       "    </tr>\n",
       "    <tr>\n",
       "      <th>349</th>\n",
       "      <td>4.25</td>\n",
       "      <td>70</td>\n",
       "      <td>HP</td>\n",
       "      <td>20</td>\n",
       "      <td>16.0</td>\n",
       "      <td>Windows 11</td>\n",
       "      <td>12</td>\n",
       "      <td>14</td>\n",
       "      <td>Intel</td>\n",
       "      <td>16</td>\n",
       "      <td>LPDDR5x</td>\n",
       "      <td>512</td>\n",
       "      <td>SSD</td>\n",
       "      <td>NVIDIA</td>\n",
       "      <td>188.679623</td>\n",
       "    </tr>\n",
       "    <tr>\n",
       "      <th>134</th>\n",
       "      <td>4.05</td>\n",
       "      <td>63</td>\n",
       "      <td>Asus</td>\n",
       "      <td>16</td>\n",
       "      <td>15.6</td>\n",
       "      <td>Windows 11</td>\n",
       "      <td>12</td>\n",
       "      <td>10</td>\n",
       "      <td>Intel</td>\n",
       "      <td>16</td>\n",
       "      <td>DDR4</td>\n",
       "      <td>512</td>\n",
       "      <td>SSD</td>\n",
       "      <td>Intel</td>\n",
       "      <td>141.211998</td>\n",
       "    </tr>\n",
       "  </tbody>\n",
       "</table>\n",
       "</div>"
      ],
      "text/plain": [
       "     rating  specScore brand  threads  screen_size          os  warranty  \\\n",
       "127    4.40         66  Dell       16         15.6  Windows 11        12   \n",
       "226    4.10         68  Acer       16         15.6  Windows 11        12   \n",
       "198    4.35         83    HP       16         16.0  Windows 11        12   \n",
       "349    4.25         70    HP       20         16.0  Windows 11        12   \n",
       "134    4.05         63  Asus       16         15.6  Windows 11        12   \n",
       "\n",
       "     core_count processor_brand  ram_capacity ram_type  memory_capacity  \\\n",
       "127          10           Intel            16     DDR5              512   \n",
       "226          10           Intel            16     DDR5              512   \n",
       "198           8             AMD            32     DDR5             1024   \n",
       "349          14           Intel            16  LPDDR5x              512   \n",
       "134          10           Intel            16     DDR4              512   \n",
       "\n",
       "    memory_type graphics_card_brand         PPI  \n",
       "127         SSD              NVIDIA  141.211998  \n",
       "226         SSD              NVIDIA  141.211998  \n",
       "198         SSD              NVIDIA  183.575598  \n",
       "349         SSD              NVIDIA  188.679623  \n",
       "134         SSD               Intel  141.211998  "
      ]
     },
     "execution_count": 11,
     "metadata": {},
     "output_type": "execute_result"
    }
   ],
   "source": [
    "X.sample(5)"
   ]
  },
  {
   "cell_type": "code",
   "execution_count": 12,
   "id": "32b9c86b",
   "metadata": {},
   "outputs": [
    {
     "data": {
      "text/plain": [
       "466    51990\n",
       "510    55990\n",
       "603    97106\n",
       "754    68990\n",
       "154    64990\n",
       "Name: price, dtype: int64"
      ]
     },
     "execution_count": 12,
     "metadata": {},
     "output_type": "execute_result"
    }
   ],
   "source": [
    "y.sample(5)"
   ]
  },
  {
   "cell_type": "code",
   "execution_count": 13,
   "id": "7a32073c",
   "metadata": {},
   "outputs": [
    {
     "data": {
      "text/html": [
       "<div>\n",
       "<style scoped>\n",
       "    .dataframe tbody tr th:only-of-type {\n",
       "        vertical-align: middle;\n",
       "    }\n",
       "\n",
       "    .dataframe tbody tr th {\n",
       "        vertical-align: top;\n",
       "    }\n",
       "\n",
       "    .dataframe thead th {\n",
       "        text-align: right;\n",
       "    }\n",
       "</style>\n",
       "<table border=\"1\" class=\"dataframe\">\n",
       "  <thead>\n",
       "    <tr style=\"text-align: right;\">\n",
       "      <th></th>\n",
       "      <th>price</th>\n",
       "      <th>rating</th>\n",
       "      <th>specScore</th>\n",
       "      <th>brand</th>\n",
       "      <th>threads</th>\n",
       "      <th>screen_size</th>\n",
       "      <th>os</th>\n",
       "      <th>warranty</th>\n",
       "      <th>core_count</th>\n",
       "      <th>processor_brand</th>\n",
       "      <th>ram_capacity</th>\n",
       "      <th>ram_type</th>\n",
       "      <th>memory_capacity</th>\n",
       "      <th>memory_type</th>\n",
       "      <th>graphics_card_brand</th>\n",
       "      <th>PPI</th>\n",
       "    </tr>\n",
       "  </thead>\n",
       "  <tbody>\n",
       "    <tr>\n",
       "      <th>536</th>\n",
       "      <td>64119</td>\n",
       "      <td>4.60</td>\n",
       "      <td>68</td>\n",
       "      <td>Lenovo</td>\n",
       "      <td>12</td>\n",
       "      <td>15.6</td>\n",
       "      <td>Windows 11</td>\n",
       "      <td>12</td>\n",
       "      <td>10</td>\n",
       "      <td>Intel</td>\n",
       "      <td>16</td>\n",
       "      <td>DDR4</td>\n",
       "      <td>512</td>\n",
       "      <td>SSD</td>\n",
       "      <td>Intel</td>\n",
       "      <td>141.211998</td>\n",
       "    </tr>\n",
       "    <tr>\n",
       "      <th>153</th>\n",
       "      <td>81999</td>\n",
       "      <td>4.75</td>\n",
       "      <td>64</td>\n",
       "      <td>HP</td>\n",
       "      <td>22</td>\n",
       "      <td>14.0</td>\n",
       "      <td>Windows 11</td>\n",
       "      <td>12</td>\n",
       "      <td>16</td>\n",
       "      <td>Intel</td>\n",
       "      <td>16</td>\n",
       "      <td>DDR5</td>\n",
       "      <td>512</td>\n",
       "      <td>SSD</td>\n",
       "      <td>Intel</td>\n",
       "      <td>157.350512</td>\n",
       "    </tr>\n",
       "    <tr>\n",
       "      <th>506</th>\n",
       "      <td>23990</td>\n",
       "      <td>4.70</td>\n",
       "      <td>47</td>\n",
       "      <td>Acer</td>\n",
       "      <td>4</td>\n",
       "      <td>14.0</td>\n",
       "      <td>Windows 11</td>\n",
       "      <td>12</td>\n",
       "      <td>2</td>\n",
       "      <td>AMD</td>\n",
       "      <td>8</td>\n",
       "      <td>DDR4</td>\n",
       "      <td>256</td>\n",
       "      <td>SSD</td>\n",
       "      <td>AMD</td>\n",
       "      <td>111.935204</td>\n",
       "    </tr>\n",
       "  </tbody>\n",
       "</table>\n",
       "</div>"
      ],
      "text/plain": [
       "     price  rating  specScore   brand  threads  screen_size          os  \\\n",
       "536  64119    4.60         68  Lenovo       12         15.6  Windows 11   \n",
       "153  81999    4.75         64      HP       22         14.0  Windows 11   \n",
       "506  23990    4.70         47    Acer        4         14.0  Windows 11   \n",
       "\n",
       "     warranty  core_count processor_brand  ram_capacity ram_type  \\\n",
       "536        12          10           Intel            16     DDR4   \n",
       "153        12          16           Intel            16     DDR5   \n",
       "506        12           2             AMD             8     DDR4   \n",
       "\n",
       "     memory_capacity memory_type graphics_card_brand         PPI  \n",
       "536              512         SSD               Intel  141.211998  \n",
       "153              512         SSD               Intel  157.350512  \n",
       "506              256         SSD                 AMD  111.935204  "
      ]
     },
     "execution_count": 13,
     "metadata": {},
     "output_type": "execute_result"
    }
   ],
   "source": [
    "df.sample(3)"
   ]
  },
  {
   "cell_type": "code",
   "execution_count": 14,
   "id": "e3ca4c8f",
   "metadata": {},
   "outputs": [],
   "source": [
    "num_features = X.select_dtypes(exclude=\"object\").columns\n",
    "cat_features = X.select_dtypes(include=\"object\").columns"
   ]
  },
  {
   "cell_type": "code",
   "execution_count": 15,
   "id": "6826e0cf",
   "metadata": {},
   "outputs": [
    {
     "data": {
      "text/plain": [
       "Index(['rating', 'specScore', 'threads', 'screen_size', 'warranty',\n",
       "       'core_count', 'ram_capacity', 'memory_capacity', 'PPI'],\n",
       "      dtype='object')"
      ]
     },
     "execution_count": 15,
     "metadata": {},
     "output_type": "execute_result"
    }
   ],
   "source": [
    "num_features"
   ]
  },
  {
   "cell_type": "code",
   "execution_count": 16,
   "id": "641ac64d",
   "metadata": {},
   "outputs": [
    {
     "data": {
      "text/plain": [
       "Index(['brand', 'os', 'processor_brand', 'ram_type', 'memory_type',\n",
       "       'graphics_card_brand'],\n",
       "      dtype='object')"
      ]
     },
     "execution_count": 16,
     "metadata": {},
     "output_type": "execute_result"
    }
   ],
   "source": [
    "cat_features"
   ]
  },
  {
   "cell_type": "markdown",
   "id": "5fd09e65",
   "metadata": {},
   "source": [
    "## Encoding & Scaling in a pipeline"
   ]
  },
  {
   "cell_type": "markdown",
   "id": "c0992119",
   "metadata": {},
   "source": [
    "- Since ML algorithm can not function with categorical data, we need to encode them into numbers & for that we can decide the type of encoding we want to apply. If its a ordinal data(which has an order like high, meduim low) we can asign integer numbers to them else if its nominal data then we can apply OHE\n",
    "\n",
    "- Once all data is in numerical form, we can apply Scaling like standardscaling or min-max scaling(normalization) or robust scaling"
   ]
  },
  {
   "cell_type": "markdown",
   "id": "90f9c1fa",
   "metadata": {},
   "source": [
    "#### all cat_features except memory type, we will do OHE, In memory type we will asign integer to determine hirarchey"
   ]
  },
  {
   "cell_type": "code",
   "execution_count": 17,
   "id": "cb1b23f9",
   "metadata": {},
   "outputs": [],
   "source": [
    "from sklearn.preprocessing import OneHotEncoder, StandardScaler, OrdinalEncoder\n",
    "from sklearn.compose import ColumnTransformer\n",
    "from sklearn.pipeline import Pipeline"
   ]
  },
  {
   "cell_type": "code",
   "execution_count": 18,
   "id": "0a0e40f7",
   "metadata": {},
   "outputs": [],
   "source": [
    "# Define transformers\n",
    "numeric_transformer = StandardScaler()\n",
    "oh_transformer = OneHotEncoder(sparse_output=False, drop='first')  # Updated parameter\n",
    "ordinal_transformer = OrdinalEncoder(categories=[['Hard', 'SSD']])  # Higher value for SSD"
   ]
  },
  {
   "attachments": {
    "image.png": {
     "image/png": "[encoded data removed]"
    }
   },
   "cell_type": "markdown",
   "id": "65844e05",
   "metadata": {},
   "source": [
    "![image.png](attachment:image.png)"
   ]
  },
  {
   "cell_type": "code",
   "execution_count": 19,
   "id": "a319e267",
   "metadata": {},
   "outputs": [],
   "source": [
    "# Create preprocessor\n",
    "preprocessor = ColumnTransformer(\n",
    "    transformers=[\n",
    "        ('cat', Pipeline(steps=[\n",
    "            ('onehot', oh_transformer)\n",
    "        ]), cat_features),\n",
    "        ('mem', Pipeline(steps=[\n",
    "            ('ordinal', ordinal_transformer)\n",
    "        ]), ['memory_type']),\n",
    "        ('num', Pipeline(steps=[\n",
    "            ('scaler', numeric_transformer)\n",
    "        ]), num_features)\n",
    "    ]\n",
    ")"
   ]
  },
  {
   "cell_type": "code",
   "execution_count": 20,
   "id": "90a1b45d",
   "metadata": {},
   "outputs": [],
   "source": [
    "X = preprocessor.fit_transform(X)"
   ]
  },
  {
   "cell_type": "code",
   "execution_count": 21,
   "id": "e65caa2d",
   "metadata": {},
   "outputs": [
    {
     "data": {
      "text/plain": [
       "array([[ 1.        ,  0.        ,  0.        , ...,  0.21199543,\n",
       "        -0.48380568, -0.43329014],\n",
       "       [ 1.        ,  0.        ,  0.        , ...,  0.21199543,\n",
       "         1.22624636, -0.43329014],\n",
       "       [ 0.        ,  0.        ,  0.        , ..., -0.96432938,\n",
       "        -0.48380568, -0.44395924],\n",
       "       ...,\n",
       "       [ 0.        ,  0.        ,  0.        , ..., -0.96432938,\n",
       "        -1.33883171, -0.44395924],\n",
       "       [ 0.        ,  0.        ,  0.        , ..., -0.96432938,\n",
       "        -0.48380568, -0.44395924],\n",
       "       [ 0.        ,  0.        ,  1.        , ..., -0.96432938,\n",
       "        -0.48380568, -1.90454557]])"
      ]
     },
     "execution_count": 21,
     "metadata": {},
     "output_type": "execute_result"
    }
   ],
   "source": [
    "X"
   ]
  },
  {
   "cell_type": "code",
   "execution_count": 22,
   "id": "3aefd0b7",
   "metadata": {},
   "outputs": [
    {
     "data": {
      "text/plain": [
       "(824, 38)"
      ]
     },
     "execution_count": 22,
     "metadata": {},
     "output_type": "execute_result"
    }
   ],
   "source": [
    "X.shape"
   ]
  },
  {
   "cell_type": "markdown",
   "id": "8c31a140",
   "metadata": {},
   "source": [
    "## Seperate data into train test"
   ]
  },
  {
   "cell_type": "code",
   "execution_count": 23,
   "id": "58f27418",
   "metadata": {},
   "outputs": [],
   "source": [
    "from sklearn.model_selection import train_test_split"
   ]
  },
  {
   "cell_type": "code",
   "execution_count": 24,
   "id": "e34f4d6d",
   "metadata": {},
   "outputs": [
    {
     "data": {
      "text/plain": [
       "((659, 38), (165, 38))"
      ]
     },
     "execution_count": 24,
     "metadata": {},
     "output_type": "execute_result"
    }
   ],
   "source": [
    "X_train, X_test, y_train, y_test = train_test_split(X,y,test_size=0.2, random_state=42)\n",
    "X_train.shape, X_test.shape"
   ]
  },
  {
   "cell_type": "markdown",
   "id": "cb52976b",
   "metadata": {},
   "source": [
    "## Model training"
   ]
  },
  {
   "cell_type": "code",
   "execution_count": 26,
   "id": "68ba8a8e",
   "metadata": {},
   "outputs": [
    {
     "name": "stdout",
     "output_type": "stream",
     "text": [
      "Training model: SVR\n",
      "Training model: LinearRegression\n",
      "Training model: SGDRegressor\n",
      "Training model: KNeighborsRegressor\n",
      "Training model: GaussianProcessRegressor\n",
      "Training model: DecisionTreeRegressor\n",
      "Training model: GradientBoostingRegressor\n",
      "Training model: RandomForestRegressor\n",
      "Training model: IsotonicRegression\n",
      "IsotonicRegression: Isotonic regression input X should be a 1d array or 2d array with 1 feature\n",
      "Training model: MLPRegressor\n"
     ]
    },
    {
     "name": "stderr",
     "output_type": "stream",
     "text": [
      "C:\\Users\\iampr\\AppData\\Local\\Programs\\Python\\Python310\\lib\\site-packages\\sklearn\\neural_network\\_multilayer_perceptron.py:690: ConvergenceWarning: Stochastic Optimizer: Maximum iterations (200) reached and the optimization hasn't converged yet.\n",
      "  warnings.warn(\n",
      "C:\\Users\\iampr\\AppData\\Local\\Programs\\Python\\Python310\\lib\\site-packages\\sklearn\\neural_network\\_multilayer_perceptron.py:690: ConvergenceWarning: Stochastic Optimizer: Maximum iterations (200) reached and the optimization hasn't converged yet.\n",
      "  warnings.warn(\n",
      "C:\\Users\\iampr\\AppData\\Local\\Programs\\Python\\Python310\\lib\\site-packages\\sklearn\\neural_network\\_multilayer_perceptron.py:690: ConvergenceWarning: Stochastic Optimizer: Maximum iterations (200) reached and the optimization hasn't converged yet.\n",
      "  warnings.warn(\n",
      "C:\\Users\\iampr\\AppData\\Local\\Programs\\Python\\Python310\\lib\\site-packages\\sklearn\\neural_network\\_multilayer_perceptron.py:690: ConvergenceWarning: Stochastic Optimizer: Maximum iterations (200) reached and the optimization hasn't converged yet.\n",
      "  warnings.warn(\n",
      "C:\\Users\\iampr\\AppData\\Local\\Programs\\Python\\Python310\\lib\\site-packages\\sklearn\\neural_network\\_multilayer_perceptron.py:690: ConvergenceWarning: Stochastic Optimizer: Maximum iterations (200) reached and the optimization hasn't converged yet.\n",
      "  warnings.warn(\n",
      "C:\\Users\\iampr\\AppData\\Local\\Programs\\Python\\Python310\\lib\\site-packages\\sklearn\\neural_network\\_multilayer_perceptron.py:690: ConvergenceWarning: Stochastic Optimizer: Maximum iterations (200) reached and the optimization hasn't converged yet.\n",
      "  warnings.warn(\n",
      "C:\\Users\\iampr\\AppData\\Local\\Programs\\Python\\Python310\\lib\\site-packages\\sklearn\\neural_network\\_multilayer_perceptron.py:690: ConvergenceWarning: Stochastic Optimizer: Maximum iterations (200) reached and the optimization hasn't converged yet.\n",
      "  warnings.warn(\n"
     ]
    },
    {
     "name": "stdout",
     "output_type": "stream",
     "text": [
      "Training model: XGBRegressor\n",
      "Training model: Ridge\n",
      "Training model: Lasso\n",
      "Training model: ElasticNet\n",
      "Training model: HuberRegressor\n"
     ]
    },
    {
     "name": "stderr",
     "output_type": "stream",
     "text": [
      "C:\\Users\\iampr\\AppData\\Local\\Programs\\Python\\Python310\\lib\\site-packages\\sklearn\\linear_model\\_huber.py:342: ConvergenceWarning: lbfgs failed to converge (status=1):\n",
      "STOP: TOTAL NO. of ITERATIONS REACHED LIMIT.\n",
      "\n",
      "Increase the number of iterations (max_iter) or scale the data as shown in:\n",
      "    https://scikit-learn.org/stable/modules/preprocessing.html\n",
      "  self.n_iter_ = _check_optimize_result(\"lbfgs\", opt_res, self.max_iter)\n",
      "C:\\Users\\iampr\\AppData\\Local\\Programs\\Python\\Python310\\lib\\site-packages\\sklearn\\linear_model\\_huber.py:342: ConvergenceWarning: lbfgs failed to converge (status=1):\n",
      "STOP: TOTAL NO. of ITERATIONS REACHED LIMIT.\n",
      "\n",
      "Increase the number of iterations (max_iter) or scale the data as shown in:\n",
      "    https://scikit-learn.org/stable/modules/preprocessing.html\n",
      "  self.n_iter_ = _check_optimize_result(\"lbfgs\", opt_res, self.max_iter)\n",
      "C:\\Users\\iampr\\AppData\\Local\\Programs\\Python\\Python310\\lib\\site-packages\\sklearn\\linear_model\\_huber.py:342: ConvergenceWarning: lbfgs failed to converge (status=1):\n",
      "STOP: TOTAL NO. of ITERATIONS REACHED LIMIT.\n",
      "\n",
      "Increase the number of iterations (max_iter) or scale the data as shown in:\n",
      "    https://scikit-learn.org/stable/modules/preprocessing.html\n",
      "  self.n_iter_ = _check_optimize_result(\"lbfgs\", opt_res, self.max_iter)\n",
      "C:\\Users\\iampr\\AppData\\Local\\Programs\\Python\\Python310\\lib\\site-packages\\sklearn\\linear_model\\_huber.py:342: ConvergenceWarning: lbfgs failed to converge (status=1):\n",
      "STOP: TOTAL NO. of ITERATIONS REACHED LIMIT.\n",
      "\n",
      "Increase the number of iterations (max_iter) or scale the data as shown in:\n",
      "    https://scikit-learn.org/stable/modules/preprocessing.html\n",
      "  self.n_iter_ = _check_optimize_result(\"lbfgs\", opt_res, self.max_iter)\n",
      "C:\\Users\\iampr\\AppData\\Local\\Programs\\Python\\Python310\\lib\\site-packages\\sklearn\\linear_model\\_huber.py:342: ConvergenceWarning: lbfgs failed to converge (status=1):\n",
      "STOP: TOTAL NO. of ITERATIONS REACHED LIMIT.\n",
      "\n",
      "Increase the number of iterations (max_iter) or scale the data as shown in:\n",
      "    https://scikit-learn.org/stable/modules/preprocessing.html\n",
      "  self.n_iter_ = _check_optimize_result(\"lbfgs\", opt_res, self.max_iter)\n",
      "C:\\Users\\iampr\\AppData\\Local\\Programs\\Python\\Python310\\lib\\site-packages\\sklearn\\linear_model\\_huber.py:342: ConvergenceWarning: lbfgs failed to converge (status=1):\n",
      "STOP: TOTAL NO. of ITERATIONS REACHED LIMIT.\n",
      "\n",
      "Increase the number of iterations (max_iter) or scale the data as shown in:\n",
      "    https://scikit-learn.org/stable/modules/preprocessing.html\n",
      "  self.n_iter_ = _check_optimize_result(\"lbfgs\", opt_res, self.max_iter)\n",
      "C:\\Users\\iampr\\AppData\\Local\\Programs\\Python\\Python310\\lib\\site-packages\\sklearn\\linear_model\\_huber.py:342: ConvergenceWarning: lbfgs failed to converge (status=1):\n",
      "STOP: TOTAL NO. of ITERATIONS REACHED LIMIT.\n",
      "\n",
      "Increase the number of iterations (max_iter) or scale the data as shown in:\n",
      "    https://scikit-learn.org/stable/modules/preprocessing.html\n",
      "  self.n_iter_ = _check_optimize_result(\"lbfgs\", opt_res, self.max_iter)\n"
     ]
    },
    {
     "name": "stdout",
     "output_type": "stream",
     "text": [
      "Training model: TheilSenRegressor\n",
      "Training model: QuantileRegressor\n"
     ]
    }
   ],
   "source": [
    "import numpy as np\n",
    "import pandas as pd\n",
    "from sklearn.metrics import mean_absolute_error, mean_squared_error, r2_score\n",
    "from sklearn.model_selection import KFold, cross_val_predict\n",
    "from sklearn.preprocessing import FunctionTransformer\n",
    "from sklearn.linear_model import Ridge, Lasso, ElasticNet, HuberRegressor, TheilSenRegressor, QuantileRegressor\n",
    "from sklearn.metrics import mean_absolute_error, mean_squared_error, r2_score\n",
    "from sklearn.model_selection import KFold, cross_val_predict\n",
    "from sklearn.svm import SVR\n",
    "from sklearn.linear_model import LinearRegression, SGDRegressor\n",
    "from sklearn.neighbors import KNeighborsRegressor\n",
    "from sklearn.gaussian_process import GaussianProcessRegressor\n",
    "from sklearn.tree import DecisionTreeRegressor\n",
    "from sklearn.ensemble import GradientBoostingRegressor, RandomForestRegressor\n",
    "from sklearn.isotonic import IsotonicRegression\n",
    "from sklearn.neural_network import MLPRegressor\n",
    "from xgboost import XGBRegressor\n",
    "\n",
    "# Define the function to calculate metrics\n",
    "def evaluate_regression_metrics(y_test, y_pred, num_predictors):\n",
    "    metrics = {}\n",
    "    metrics['MAE'] = mean_absolute_error(y_test, y_pred)\n",
    "    metrics['MSE'] = mean_squared_error(y_test, y_pred)\n",
    "    metrics['RMSE'] = np.sqrt(metrics['MSE'])\n",
    "    metrics['R2'] = r2_score(y_test, y_pred)\n",
    "    metrics['Adjusted R2'] = 1 - (1 - metrics['R2']) * (len(y_test) - 1) / (len(y_test) - num_predictors - 1)\n",
    "    return metrics\n",
    "\n",
    "# Define models (including new ones)\n",
    "models = {\n",
    "    'a': [\"SVR\", SVR()],\n",
    "    'b': [\"LinearRegression\", LinearRegression()],\n",
    "    'c': [\"SGDRegressor\", SGDRegressor()],\n",
    "    'd': [\"KNeighborsRegressor\", KNeighborsRegressor()],\n",
    "    'e': [\"GaussianProcessRegressor\", GaussianProcessRegressor()],\n",
    "    'f': [\"DecisionTreeRegressor\", DecisionTreeRegressor()],\n",
    "    'g': [\"GradientBoostingRegressor\", GradientBoostingRegressor()],\n",
    "    'h': [\"RandomForestRegressor\", RandomForestRegressor()],\n",
    "    'i': [\"IsotonicRegression\", IsotonicRegression()],\n",
    "    'j': [\"MLPRegressor\", MLPRegressor()],\n",
    "    'k': [\"XGBRegressor\", XGBRegressor()],\n",
    "    'l': [\"Ridge\", Ridge()],\n",
    "    'm': [\"Lasso\", Lasso()],\n",
    "    'n': [\"ElasticNet\", ElasticNet()],\n",
    "    'o': [\"HuberRegressor\", HuberRegressor()],\n",
    "    'p': [\"TheilSenRegressor\", TheilSenRegressor()],\n",
    "    'q': [\"QuantileRegressor\", QuantileRegressor()]\n",
    "}\n",
    "\n",
    "# Define function to test the model and compute metrics\n",
    "def test_model(model, X, y):\n",
    "    cv = KFold(n_splits=7, shuffle=True, random_state=45)\n",
    "    y_pred = cross_val_predict(model, X, y, cv=cv)\n",
    "    num_predictors = X.shape[1]\n",
    "    metrics = evaluate_regression_metrics(y, y_pred, num_predictors)\n",
    "    return metrics\n",
    "\n",
    "# Train models and calculate metrics\n",
    "model_scores = []\n",
    "for model_key, (model_name, model) in models.items():\n",
    "    try:\n",
    "        print(f\"Training model: {model_name}\")\n",
    "        metrics = test_model(model, X_train, y_train)\n",
    "        metrics['Model'] = model_name\n",
    "        model_scores.append(metrics)\n",
    "    except Exception as e:\n",
    "        print(f\"{model_name}: {e}\")\n",
    "\n",
    "# Convert metrics to DataFrame\n",
    "df_model_scores = pd.DataFrame(model_scores)\n",
    "df_model_scores = df_model_scores[['Model', 'R2', 'Adjusted R2', 'MAE', 'MSE', 'RMSE']]"
   ]
  },
  {
   "cell_type": "code",
   "execution_count": 27,
   "id": "c17ec5bb",
   "metadata": {},
   "outputs": [
    {
     "data": {
      "text/html": [
       "<div>\n",
       "<style scoped>\n",
       "    .dataframe tbody tr th:only-of-type {\n",
       "        vertical-align: middle;\n",
       "    }\n",
       "\n",
       "    .dataframe tbody tr th {\n",
       "        vertical-align: top;\n",
       "    }\n",
       "\n",
       "    .dataframe thead th {\n",
       "        text-align: right;\n",
       "    }\n",
       "</style>\n",
       "<table border=\"1\" class=\"dataframe\">\n",
       "  <thead>\n",
       "    <tr style=\"text-align: right;\">\n",
       "      <th></th>\n",
       "      <th>Model</th>\n",
       "      <th>R2</th>\n",
       "      <th>Adjusted R2</th>\n",
       "      <th>MAE</th>\n",
       "      <th>MSE</th>\n",
       "      <th>RMSE</th>\n",
       "    </tr>\n",
       "  </thead>\n",
       "  <tbody>\n",
       "    <tr>\n",
       "      <th>0</th>\n",
       "      <td>RandomForestRegressor</td>\n",
       "      <td>0.885275</td>\n",
       "      <td>0.878243</td>\n",
       "      <td>9795.264955</td>\n",
       "      <td>3.732435e+08</td>\n",
       "      <td>19319.511227</td>\n",
       "    </tr>\n",
       "    <tr>\n",
       "      <th>1</th>\n",
       "      <td>GradientBoostingRegressor</td>\n",
       "      <td>0.870501</td>\n",
       "      <td>0.862564</td>\n",
       "      <td>10326.131758</td>\n",
       "      <td>4.213066e+08</td>\n",
       "      <td>20525.754867</td>\n",
       "    </tr>\n",
       "    <tr>\n",
       "      <th>2</th>\n",
       "      <td>XGBRegressor</td>\n",
       "      <td>0.864721</td>\n",
       "      <td>0.856429</td>\n",
       "      <td>10231.532083</td>\n",
       "      <td>4.401139e+08</td>\n",
       "      <td>20978.891081</td>\n",
       "    </tr>\n",
       "    <tr>\n",
       "      <th>3</th>\n",
       "      <td>KNeighborsRegressor</td>\n",
       "      <td>0.841492</td>\n",
       "      <td>0.831777</td>\n",
       "      <td>12899.552656</td>\n",
       "      <td>5.156855e+08</td>\n",
       "      <td>22708.710149</td>\n",
       "    </tr>\n",
       "    <tr>\n",
       "      <th>4</th>\n",
       "      <td>Ridge</td>\n",
       "      <td>0.815263</td>\n",
       "      <td>0.803940</td>\n",
       "      <td>15963.130338</td>\n",
       "      <td>6.010181e+08</td>\n",
       "      <td>24515.669585</td>\n",
       "    </tr>\n",
       "    <tr>\n",
       "      <th>5</th>\n",
       "      <td>Lasso</td>\n",
       "      <td>0.813218</td>\n",
       "      <td>0.801770</td>\n",
       "      <td>16067.453109</td>\n",
       "      <td>6.076719e+08</td>\n",
       "      <td>24651.001336</td>\n",
       "    </tr>\n",
       "    <tr>\n",
       "      <th>6</th>\n",
       "      <td>LinearRegression</td>\n",
       "      <td>0.812787</td>\n",
       "      <td>0.801312</td>\n",
       "      <td>16089.737590</td>\n",
       "      <td>6.090742e+08</td>\n",
       "      <td>24679.428728</td>\n",
       "    </tr>\n",
       "    <tr>\n",
       "      <th>7</th>\n",
       "      <td>SGDRegressor</td>\n",
       "      <td>0.805460</td>\n",
       "      <td>0.793537</td>\n",
       "      <td>16201.360960</td>\n",
       "      <td>6.329100e+08</td>\n",
       "      <td>25157.701609</td>\n",
       "    </tr>\n",
       "    <tr>\n",
       "      <th>8</th>\n",
       "      <td>TheilSenRegressor</td>\n",
       "      <td>0.801546</td>\n",
       "      <td>0.789382</td>\n",
       "      <td>14954.630291</td>\n",
       "      <td>6.456452e+08</td>\n",
       "      <td>25409.549860</td>\n",
       "    </tr>\n",
       "    <tr>\n",
       "      <th>9</th>\n",
       "      <td>ElasticNet</td>\n",
       "      <td>0.797382</td>\n",
       "      <td>0.784964</td>\n",
       "      <td>14962.148419</td>\n",
       "      <td>6.591895e+08</td>\n",
       "      <td>25674.686911</td>\n",
       "    </tr>\n",
       "    <tr>\n",
       "      <th>10</th>\n",
       "      <td>HuberRegressor</td>\n",
       "      <td>0.786343</td>\n",
       "      <td>0.773248</td>\n",
       "      <td>13870.209768</td>\n",
       "      <td>6.951047e+08</td>\n",
       "      <td>26364.837734</td>\n",
       "    </tr>\n",
       "    <tr>\n",
       "      <th>11</th>\n",
       "      <td>DecisionTreeRegressor</td>\n",
       "      <td>0.770874</td>\n",
       "      <td>0.756831</td>\n",
       "      <td>13033.341426</td>\n",
       "      <td>7.454312e+08</td>\n",
       "      <td>27302.585243</td>\n",
       "    </tr>\n",
       "    <tr>\n",
       "      <th>12</th>\n",
       "      <td>SVR</td>\n",
       "      <td>-0.066058</td>\n",
       "      <td>-0.131397</td>\n",
       "      <td>33013.636247</td>\n",
       "      <td>3.468279e+09</td>\n",
       "      <td>58892.098083</td>\n",
       "    </tr>\n",
       "    <tr>\n",
       "      <th>13</th>\n",
       "      <td>QuantileRegressor</td>\n",
       "      <td>-0.067029</td>\n",
       "      <td>-0.132428</td>\n",
       "      <td>33037.748103</td>\n",
       "      <td>3.471438e+09</td>\n",
       "      <td>58918.907931</td>\n",
       "    </tr>\n",
       "    <tr>\n",
       "      <th>14</th>\n",
       "      <td>GaussianProcessRegressor</td>\n",
       "      <td>-0.134653</td>\n",
       "      <td>-0.204197</td>\n",
       "      <td>28584.983378</td>\n",
       "      <td>3.691445e+09</td>\n",
       "      <td>60757.258888</td>\n",
       "    </tr>\n",
       "    <tr>\n",
       "      <th>15</th>\n",
       "      <td>MLPRegressor</td>\n",
       "      <td>-1.763314</td>\n",
       "      <td>-1.932679</td>\n",
       "      <td>75950.362423</td>\n",
       "      <td>8.990076e+09</td>\n",
       "      <td>94816.009136</td>\n",
       "    </tr>\n",
       "  </tbody>\n",
       "</table>\n",
       "</div>"
      ],
      "text/plain": [
       "                        Model        R2  Adjusted R2           MAE  \\\n",
       "0       RandomForestRegressor  0.885275     0.878243   9795.264955   \n",
       "1   GradientBoostingRegressor  0.870501     0.862564  10326.131758   \n",
       "2                XGBRegressor  0.864721     0.856429  10231.532083   \n",
       "3         KNeighborsRegressor  0.841492     0.831777  12899.552656   \n",
       "4                       Ridge  0.815263     0.803940  15963.130338   \n",
       "5                       Lasso  0.813218     0.801770  16067.453109   \n",
       "6            LinearRegression  0.812787     0.801312  16089.737590   \n",
       "7                SGDRegressor  0.805460     0.793537  16201.360960   \n",
       "8           TheilSenRegressor  0.801546     0.789382  14954.630291   \n",
       "9                  ElasticNet  0.797382     0.784964  14962.148419   \n",
       "10             HuberRegressor  0.786343     0.773248  13870.209768   \n",
       "11      DecisionTreeRegressor  0.770874     0.756831  13033.341426   \n",
       "12                        SVR -0.066058    -0.131397  33013.636247   \n",
       "13          QuantileRegressor -0.067029    -0.132428  33037.748103   \n",
       "14   GaussianProcessRegressor -0.134653    -0.204197  28584.983378   \n",
       "15               MLPRegressor -1.763314    -1.932679  75950.362423   \n",
       "\n",
       "             MSE          RMSE  \n",
       "0   3.732435e+08  19319.511227  \n",
       "1   4.213066e+08  20525.754867  \n",
       "2   4.401139e+08  20978.891081  \n",
       "3   5.156855e+08  22708.710149  \n",
       "4   6.010181e+08  24515.669585  \n",
       "5   6.076719e+08  24651.001336  \n",
       "6   6.090742e+08  24679.428728  \n",
       "7   6.329100e+08  25157.701609  \n",
       "8   6.456452e+08  25409.549860  \n",
       "9   6.591895e+08  25674.686911  \n",
       "10  6.951047e+08  26364.837734  \n",
       "11  7.454312e+08  27302.585243  \n",
       "12  3.468279e+09  58892.098083  \n",
       "13  3.471438e+09  58918.907931  \n",
       "14  3.691445e+09  60757.258888  \n",
       "15  8.990076e+09  94816.009136  "
      ]
     },
     "execution_count": 27,
     "metadata": {},
     "output_type": "execute_result"
    }
   ],
   "source": [
    "df_model_scores.sort_values(by='R2', ascending=False).reset_index(drop=True)"
   ]
  },
  {
   "cell_type": "markdown",
   "id": "bd3e00d7",
   "metadata": {},
   "source": [
    "#### Random forest regressor has the best r2 score among all other algorithms so we'll use that !!"
   ]
  }
 ],
 "metadata": {
  "kernelspec": {
   "display_name": "Python 3 (ipykernel)",
   "language": "python",
   "name": "python3"
  },
  "language_info": {
   "codemirror_mode": {
    "name": "ipython",
    "version": 3
   },
   "file_extension": ".py",
   "mimetype": "text/x-python",
   "name": "python",
   "nbconvert_exporter": "python",
   "pygments_lexer": "ipython3",
   "version": "3.10.4"
  }
 },
 "nbformat": 4,
 "nbformat_minor": 5
}
